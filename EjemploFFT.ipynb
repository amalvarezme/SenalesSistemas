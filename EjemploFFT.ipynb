{
  "nbformat": 4,
  "nbformat_minor": 0,
  "metadata": {
    "colab": {
      "private_outputs": true,
      "provenance": [],
      "authorship_tag": "ABX9TyPW2Kw42XBr3RlXQ2stU/Do",
      "include_colab_link": true
    },
    "kernelspec": {
      "name": "python3",
      "display_name": "Python 3"
    },
    "language_info": {
      "name": "python"
    }
  },
  "cells": [
    {
      "cell_type": "markdown",
      "metadata": {
        "id": "view-in-github",
        "colab_type": "text"
      },
      "source": [
        "<a href=\"https://colab.research.google.com/github/amalvarezme/SenalesSistemas/blob/master/EjemploFFT.ipynb\" target=\"_parent\"><img src=\"https://colab.research.google.com/assets/colab-badge.svg\" alt=\"Open In Colab\"/></a>"
      ]
    },
    {
      "cell_type": "markdown",
      "source": [
        "$$x(t)=A\\cos(2\\pi 60 t) + B \\cos(2\\pi 150 t)$$"
      ],
      "metadata": {
        "id": "jcmpCdAAGQoo"
      }
    },
    {
      "cell_type": "code",
      "execution_count": null,
      "metadata": {
        "id": "TP0xhcyQGIaJ"
      },
      "outputs": [],
      "source": [
        "import numpy as np\n",
        "import matplotlib.pyplot as plt\n",
        "\n",
        "F1 = 60\n",
        "F2 = 250\n",
        "Fs = 5*F2\n",
        "T = 5*1/F1\n",
        "A = 10\n",
        "B = 5\n",
        "tk = np.arange(0,T,1/Fs)\n",
        "x = A*np.cos(2*np.pi*F1*tk)+B*np.cos(2*np.pi*F2*tk)+8\n",
        "\n",
        "plt.plot(tk,x)\n",
        "plt.xlabel('Tiempo discreto')\n",
        "plt.ylabel('x[k]')\n",
        "plt.show()"
      ]
    },
    {
      "cell_type": "code",
      "source": [
        "vf = np.fft.fftfreq(len(x),1/Fs) #calculo vector de frecuencias\n",
        "Xw = np.fft.fft(x) #cálculo FFT\n",
        "\n",
        "print(len(x),len(Xw),Fs)\n"
      ],
      "metadata": {
        "id": "5Xj1QywpHIt8"
      },
      "execution_count": null,
      "outputs": []
    },
    {
      "cell_type": "code",
      "source": [
        "Xf = Xw.copy()\n",
        "Xf[vf == 0] = 0\n",
        "ind_ = (vf > F1) | (vf < -F1)\n",
        "Xf[ind_] = 0\n",
        "\n",
        "plt.plot(vf,abs(Xw),label='Xw')\n",
        "\n",
        "plt.legend()\n",
        "plt.xlabel('Fn [Hz]')\n",
        "plt.ylabel('|X[Fn]|')\n",
        "plt.show()\n",
        "\n",
        "plt.plot(vf,abs(Xf),label='Xf')\n",
        "\n",
        "plt.legend()\n",
        "plt.xlabel('Fn [Hz]')\n",
        "plt.ylabel('|X[Fn]|')\n",
        "plt.show()\n",
        "\n",
        "\n",
        "xr = np.fft.ifft(Xf)\n",
        "plt.plot(tk,xr.real)\n",
        "plt.show()"
      ],
      "metadata": {
        "id": "wlMuEPS5H5pd"
      },
      "execution_count": null,
      "outputs": []
    }
  ]
}