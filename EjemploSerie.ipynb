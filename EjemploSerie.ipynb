{
  "nbformat": 4,
  "nbformat_minor": 0,
  "metadata": {
    "colab": {
      "private_outputs": true,
      "provenance": [],
      "authorship_tag": "ABX9TyPD+lYhajRFNSYIChYUGJDX",
      "include_colab_link": true
    },
    "kernelspec": {
      "name": "python3",
      "display_name": "Python 3"
    },
    "language_info": {
      "name": "python"
    }
  },
  "cells": [
    {
      "cell_type": "markdown",
      "metadata": {
        "id": "view-in-github",
        "colab_type": "text"
      },
      "source": [
        "<a href=\"https://colab.research.google.com/github/amalvarezme/SenalesSistemas/blob/master/EjemploSerie.ipynb\" target=\"_parent\"><img src=\"https://colab.research.google.com/assets/colab-badge.svg\" alt=\"Open In Colab\"/></a>"
      ]
    },
    {
      "cell_type": "code",
      "execution_count": null,
      "metadata": {
        "id": "S44UFVQy_UD6"
      },
      "outputs": [],
      "source": [
        "import numpy as np\n",
        "\n",
        "T = 4 # intervalo de la señal\n",
        "B = 5 #altura de la señal\n",
        "d1 = 1 # d1 < T/2\n",
        "Fs = 200*1/T # frecuencia muestreo\n",
        "Ts = 1/Fs # periodo de muestreo\n",
        "t = np.arange(-T/2,T/2,Ts)\n",
        "x = np.zeros(len(t))\n",
        "x[(t>=-d1) & (t<0)] = (B/d1)*t[(t>=-d1) & (t<0)]+B\n",
        "x[(t>=0) & (t<d1)] = -(B/d1)*t[(t>=0) & (t<d1)]+B\n",
        "\n"
      ]
    },
    {
      "cell_type": "code",
      "source": [
        "import matplotlib.pyplot as plt\n",
        "plt.plot(t,x)\n",
        "plt.xlabel('t')\n",
        "plt.ylabel('x(t)')\n",
        "plt.grid()\n",
        "plt.show()"
      ],
      "metadata": {
        "id": "Edn0CyLFFhMB"
      },
      "execution_count": null,
      "outputs": []
    },
    {
      "cell_type": "code",
      "source": [
        "N = 10 #numero armonicos\n",
        "wo = 2*np.pi/T # frecuencia fundamental\n",
        "# definir bases\n",
        "Nm = len(t)\n",
        "phin = np.zeros((Nm,2*N+1),dtype=np.complex128)#crear matriz para guardar bases\n",
        "for n in range(-N,N+1,1):\n",
        "    phin[:,n+N] = np.exp(1j*n*wo*t)#base de fourier en el intervalo de interés"
      ],
      "metadata": {
        "id": "l30zXBr6H5sI"
      },
      "execution_count": null,
      "outputs": []
    },
    {
      "cell_type": "code",
      "source": [
        "\n",
        "\n",
        "plt.plot(t,phin)\n",
        "plt.show()"
      ],
      "metadata": {
        "id": "fc2aKdmrEJEF"
      },
      "execution_count": null,
      "outputs": []
    },
    {
      "cell_type": "code",
      "source": [],
      "metadata": {
        "id": "WWKyavEaEmuA"
      },
      "execution_count": null,
      "outputs": []
    },
    {
      "cell_type": "markdown",
      "source": [
        "$$c_n = \\frac{B}{\\pi n^2 \\omega_o d_1}\\left( 1 - \\cos(n\\omega_o d_1)\\right)$$"
      ],
      "metadata": {
        "id": "6IvxJvO9Lor1"
      }
    },
    {
      "cell_type": "code",
      "source": [
        "#calcular espectro -> cambiar según la señal estudiada\n",
        "cn = np.zeros(2*N+1,dtype=np.complex128)\n",
        "nv = np.linspace(-N, N, 2*N+1) #vector num armónicos\n",
        "Cn = (B/(wo*d1*np.pi*nv**2))*(1-np.cos(nv*wo*d1))\n",
        "Cn[N] = 5 # nivel dc C_0"
      ],
      "metadata": {
        "id": "OP_R9iM5MBJV"
      },
      "execution_count": null,
      "outputs": []
    },
    {
      "cell_type": "code",
      "source": [
        "#graficar espectro\n",
        "fig = plt.figure(figsize=(8,8))\n",
        "plt.subplot(2,2,1)\n",
        "plt.stem(nv, np.real(Cn), 'r')\n",
        "plt.xlabel(r'$n$',fontsize = 14)\n",
        "plt.ylabel(r'$Re\\{C_n\\}$',fontsize = 14)\n",
        "plt.axis('tight')\n",
        "plt.grid()\n",
        "\n",
        "plt.subplot(2,2,2)\n",
        "plt.stem(nv, np.imag(Cn), 'r')\n",
        "plt.xlabel(r'$n$',fontsize = 14)\n",
        "plt.ylabel(r'$Im\\{C_n\\}$',fontsize = 14)\n",
        "plt.axis('tight')\n",
        "plt.grid()\n",
        "\n",
        "plt.subplot(2,2,3)\n",
        "plt.stem(nv, abs(Cn), 'r')#magnitud del espectro\n",
        "plt.xlabel(r'$n$',fontsize = 14)\n",
        "plt.ylabel(r'$|C_n|$',fontsize = 14)\n",
        "plt.axis('tight')\n",
        "plt.grid()\n",
        "\n",
        "plt.subplot(2,2,4)\n",
        "plt.stem(nv, np.angle(Cn), 'r')#fase del espectro\n",
        "plt.xlabel(r'$n$',fontsize = 14)\n",
        "plt.ylabel(r'$\\langle C_n$',fontsize = 14)\n",
        "plt.axis('tight')\n",
        "plt.grid()\n",
        "\n",
        "fig.tight_layout()"
      ],
      "metadata": {
        "id": "UJFPLU5RO4Og"
      },
      "execution_count": null,
      "outputs": []
    },
    {
      "cell_type": "code",
      "source": [
        "xe = phin.dot(Cn) # dot calcula el producto entre vectores\n",
        "plt.plot(t,xe)\n",
        "plt.show()"
      ],
      "metadata": {
        "id": "E2s8SWKgPCIW"
      },
      "execution_count": null,
      "outputs": []
    },
    {
      "cell_type": "code",
      "source": [],
      "metadata": {
        "id": "K3RgahIgQX38"
      },
      "execution_count": null,
      "outputs": []
    }
  ]
}